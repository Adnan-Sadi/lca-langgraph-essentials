{
 "cells": [
  {
   "cell_type": "markdown",
   "id": "24e626d8-d4c0-4daa-a16c-3e25fae96403",
   "metadata": {},
   "source": [
    "# LangGraph: StateGraph Essentials"
   ]
  },
  {
   "cell_type": "code",
   "execution_count": 1,
   "id": "6ced48a8-e5c5-4d3a-8228-71f3b9ab86d6",
   "metadata": {},
   "outputs": [],
   "source": [
    "from utils import render_mermaid_remote\n",
    "#from IPython.display import Image, display\n",
    "#g_mermaid_cmd = graph.get_graph(xray=True).draw_mermaid()\n",
    "#render_mermaid_remote(g_mermaid_cmd, False)"
   ]
  },
  {
   "cell_type": "markdown",
   "id": "07ab35d6-75cf-4d95-9f95-b626945541fb",
   "metadata": {},
   "source": [
    "## State, Nodes\n",
    "<img src=\"./Assets/States_Nodes.png\" align=\"left\" width=\"600\" style=\"margin-right:15px;\"/>\n"
   ]
  },
  {
   "cell_type": "code",
   "execution_count": 2,
   "id": "21c48c50-d7a2-4c58-9842-aadad748ba92",
   "metadata": {},
   "outputs": [],
   "source": [
    "import operator\n",
    "from typing import Annotated, List, Literal, TypedDict\n",
    "\n",
    "from langgraph.graph import END, START, StateGraph\n",
    "\n",
    "from langgraph.types import Command, interrupt"
   ]
  },
  {
   "cell_type": "code",
   "execution_count": 3,
   "id": "ddb513bf-416c-428b-b6bf-dc026fbe9b2d",
   "metadata": {},
   "outputs": [],
   "source": [
    "class State(TypedDict):\n",
    "    nlist : List[str]   "
   ]
  },
  {
   "cell_type": "code",
   "execution_count": 4,
   "id": "3f7e8e67-dfdd-4cb7-8627-77baa24b87c1",
   "metadata": {},
   "outputs": [],
   "source": [
    "def node_a (state: State):\n",
    "    print(f\"node a is receiving {state['nlist']}\")\n",
    "    note = \"Hello World from Node a\"\n",
    "    print (note)\n",
    "    return({\"nlist\": [note]})"
   ]
  },
  {
   "cell_type": "code",
   "execution_count": 5,
   "id": "8ef78091-97d3-4255-af63-b69631fdbf55",
   "metadata": {},
   "outputs": [],
   "source": [
    "builder = StateGraph(State)\n",
    "builder.add_node(\"a\", node_a) \n",
    "builder.add_edge(START,\"a\")\n",
    "builder.add_edge(\"a\",END)\n",
    "graph = builder.compile()"
   ]
  },
  {
   "cell_type": "code",
   "execution_count": 6,
   "id": "8476ec42-1608-44f0-a8e0-f8e686bf310d",
   "metadata": {},
   "outputs": [
    {
     "ename": "NameError",
     "evalue": "name 'Image' is not defined",
     "output_type": "error",
     "traceback": [
      "\u001b[31m---------------------------------------------------------------------------\u001b[39m",
      "\u001b[31mNameError\u001b[39m                                 Traceback (most recent call last)",
      "\u001b[36mCell\u001b[39m\u001b[36m \u001b[39m\u001b[32mIn[6]\u001b[39m\u001b[32m, line 1\u001b[39m\n\u001b[32m----> \u001b[39m\u001b[32m1\u001b[39m display(\u001b[43mImage\u001b[49m(graph.get_graph(xray=\u001b[38;5;28;01mTrue\u001b[39;00m).draw_mermaid_png()))\n",
      "\u001b[31mNameError\u001b[39m: name 'Image' is not defined"
     ]
    }
   ],
   "source": [
    "display(Image(graph.get_graph(xray=True).draw_mermaid_png()))"
   ]
  },
  {
   "cell_type": "code",
   "execution_count": 7,
   "id": "5b4b7156-63c4-49d3-a87d-e0ad53138abd",
   "metadata": {},
   "outputs": [
    {
     "name": "stdout",
     "output_type": "stream",
     "text": [
      "node a is receiving ['Hello Node a, how are you?']\n",
      "Hello World from Node a\n"
     ]
    },
    {
     "data": {
      "text/plain": [
       "{'nlist': ['Hello World from Node a']}"
      ]
     },
     "execution_count": 7,
     "metadata": {},
     "output_type": "execute_result"
    }
   ],
   "source": [
    "initial_state = State(\n",
    "    nlist = [\"Hello Node a, how are you?\"]\n",
    ")\n",
    "graph.invoke(initial_state)"
   ]
  },
  {
   "cell_type": "markdown",
   "id": "d58abab6-d7ca-43c5-9912-62ca27590bed",
   "metadata": {},
   "source": [
    "**What are the takeaways?**  \n",
    "**Setup**:  \n",
    "- State  \n",
    "    - All nodes can share the same state\n",
    "    - State can be any Python data type, but commonly is Typedict, dataclass or pydantic\n",
    "- Nodes are just functions\n",
    "\n",
    "**Execution (invoke)**\n",
    "- Runtime\n",
    "    - Initializes the input state from the invoke statement\n",
    "    - determines which node(s) to run\n",
    "- It provides the node with state as an input\n",
    "- The node is executed and updates state with its return value\n",
    "- The graph returns the final value of state.\n",
    "\n",
    "**Try Next**\n",
    "- add another node\n",
    "- modify the the print or the intial state message\n",
    "- Add another value to state\n",
    "  \n"
   ]
  },
  {
   "cell_type": "code",
   "execution_count": null,
   "id": "c9176fd2-2990-4335-a302-86e30d3afacd",
   "metadata": {},
   "outputs": [],
   "source": []
  },
  {
   "cell_type": "code",
   "execution_count": null,
   "id": "2aeee3b8-98a8-4650-99d5-835a0c4de8ed",
   "metadata": {},
   "outputs": [],
   "source": []
  },
  {
   "cell_type": "code",
   "execution_count": null,
   "id": "dfb0ac37-cadb-486f-813e-804e80b0a420",
   "metadata": {},
   "outputs": [],
   "source": []
  },
  {
   "cell_type": "code",
   "execution_count": null,
   "id": "aa4aec79-c0dd-4f79-9105-45e79ab080d0",
   "metadata": {},
   "outputs": [],
   "source": []
  },
  {
   "cell_type": "code",
   "execution_count": null,
   "id": "a5edfa9b-0fdf-435b-8f59-1cfa306a1c52",
   "metadata": {},
   "outputs": [],
   "source": []
  },
  {
   "cell_type": "code",
   "execution_count": null,
   "id": "0e1cbf89-d527-4b39-bfa3-f66aa4a9d1a1",
   "metadata": {},
   "outputs": [],
   "source": []
  },
  {
   "cell_type": "code",
   "execution_count": null,
   "id": "759e770a-4b1e-4f0f-8353-4278424f319f",
   "metadata": {},
   "outputs": [],
   "source": []
  },
  {
   "cell_type": "code",
   "execution_count": null,
   "id": "45c29ebd-4427-428d-8378-41bb3753785b",
   "metadata": {},
   "outputs": [],
   "source": []
  },
  {
   "cell_type": "code",
   "execution_count": null,
   "id": "f01d8e92-c5d7-416c-9109-4ed23dc201e6",
   "metadata": {},
   "outputs": [],
   "source": []
  },
  {
   "cell_type": "code",
   "execution_count": null,
   "id": "7e10273a-ac90-4cd9-9432-9cb603de7595",
   "metadata": {},
   "outputs": [],
   "source": []
  },
  {
   "cell_type": "code",
   "execution_count": null,
   "id": "1f243545-304a-4c03-a10e-39ac85d4e556",
   "metadata": {},
   "outputs": [],
   "source": []
  },
  {
   "cell_type": "code",
   "execution_count": null,
   "id": "b28f8250-9a1e-4818-a2d5-44a73da769a1",
   "metadata": {},
   "outputs": [],
   "source": []
  },
  {
   "cell_type": "markdown",
   "id": "594894cb-cd02-46fe-9036-155c8a7c5128",
   "metadata": {},
   "source": [
    "## Edges: Parallel Execution\n",
    "<div style=\"display:flex; align-items:flex-start;\">\n",
    "  <img src=\"./Assets/Parallel.png\" width=\"300\" style=\"margin-right:15px;\"/>\n",
    "  <img src=\"./Assets/parallel_mermaid.png\" width=\"150\"/>\n",
    "</div>"
   ]
  },
  {
   "cell_type": "code",
   "execution_count": 8,
   "id": "2de74513-9019-44d0-8201-5b7aebf3f158",
   "metadata": {},
   "outputs": [],
   "source": [
    "class State(TypedDict):\n",
    "    nlist : Annotated[list[str], operator.add]   "
   ]
  },
  {
   "cell_type": "code",
   "execution_count": 9,
   "id": "30fe2989-3518-46da-ba3a-b8f3f78b017f",
   "metadata": {},
   "outputs": [],
   "source": [
    "def a (state: State):\n",
    "    print(f'Adding \"A\" to {state[\"nlist\"]}')\n",
    "    return({\"nlist\": [\"A\"]})"
   ]
  },
  {
   "cell_type": "code",
   "execution_count": 10,
   "id": "15bfcba0-9cae-44fb-b680-af92c34259c6",
   "metadata": {},
   "outputs": [],
   "source": [
    "def b (state: State):\n",
    "    print(f'Adding \"B\" to {state[\"nlist\"]}')\n",
    "    return({\"nlist\": [\"B\"]})"
   ]
  },
  {
   "cell_type": "code",
   "execution_count": 11,
   "id": "36568925-dff1-4e31-bb3a-86a580ba307e",
   "metadata": {},
   "outputs": [],
   "source": [
    "def bb (state: State):\n",
    "    print(f'Adding \"BB\" to {state[\"nlist\"]}')\n",
    "    return({\"nlist\": [\"BB\"]})"
   ]
  },
  {
   "cell_type": "code",
   "execution_count": 12,
   "id": "49652813-2f34-486b-b314-fb43c26c48e8",
   "metadata": {},
   "outputs": [],
   "source": [
    "def c (state: State):\n",
    "    print(f'Adding \"C\" to {state[\"nlist\"]}')\n",
    "    return({\"nlist\": [\"C\"]})"
   ]
  },
  {
   "cell_type": "code",
   "execution_count": 13,
   "id": "9a4d39ed-c9c3-4318-b617-26f2d622673c",
   "metadata": {},
   "outputs": [],
   "source": [
    "def cc (state: State):\n",
    "    print(f'Adding \"CC\" to {state[\"nlist\"]}')\n",
    "    return({\"nlist\": [\"CC\"]})"
   ]
  },
  {
   "cell_type": "code",
   "execution_count": 14,
   "id": "c393bc9b-67e1-4123-87db-a4cd52d7144d",
   "metadata": {},
   "outputs": [],
   "source": [
    "def d (state: State):\n",
    "    print(f'Adding \"D\" to {state[\"nlist\"]}')\n",
    "    return({\"nlist\": [\"D\"]})"
   ]
  },
  {
   "cell_type": "code",
   "execution_count": 16,
   "id": "7619e77b-b619-45ec-8acf-b2b279dd60fd",
   "metadata": {},
   "outputs": [],
   "source": [
    "builder = StateGraph(State)\n",
    "builder.add_node(a)\n",
    "builder.add_node(b)\n",
    "builder.add_node(bb)\n",
    "builder.add_node(c)\n",
    "builder.add_node(cc)\n",
    "builder.add_node(d)\n",
    "builder.add_edge(START,\"a\")\n",
    "builder.add_edge(\"a\", \"b\")\n",
    "builder.add_edge(\"a\", \"c\")\n",
    "builder.add_edge(\"b\", \"bb\")\n",
    "builder.add_edge(\"c\", \"cc\")\n",
    "builder.add_edge(\"bb\", \"d\")\n",
    "builder.add_edge(\"cc\", \"d\")\n",
    "builder.add_edge(\"d\",END)\n",
    "graph = builder.compile()\n",
    "display(Image(graph.get_graph().draw_mermaid_png()))"
   ]
  },
  {
   "cell_type": "markdown",
   "id": "682fdd33-e344-46d9-8b6b-fa21b74c830b",
   "metadata": {},
   "source": [
    "<div style=\"display:flex; align-items:flex-start;\">\n",
    "  <img src=\"./Assets/parallel_mermaid.png\" width=\"200\"/>\n",
    "</div>"
   ]
  },
  {
   "cell_type": "code",
   "execution_count": 17,
   "id": "ac00501e-da1a-40ea-b868-f7d29f131359",
   "metadata": {},
   "outputs": [
    {
     "name": "stdout",
     "output_type": "stream",
     "text": [
      "Adding \"A\" to ['Initial String:']\n",
      "Adding \"B\" to ['Initial String:', 'A']\n",
      "Adding \"C\" to ['Initial String:', 'A']\n",
      "Adding \"BB\" to ['Initial String:', 'A', 'B', 'C']\n",
      "Adding \"CC\" to ['Initial String:', 'A', 'B', 'C']\n",
      "Adding \"D\" to ['Initial String:', 'A', 'B', 'C', 'BB', 'CC']\n"
     ]
    },
    {
     "data": {
      "text/plain": [
       "{'nlist': ['Initial String:', 'A', 'B', 'C', 'BB', 'CC', 'D']}"
      ]
     },
     "execution_count": 17,
     "metadata": {},
     "output_type": "execute_result"
    }
   ],
   "source": [
    "initial_state = State(\n",
    "    nlist = [\"Initial String:\"]\n",
    ")\n",
    "graph.invoke(initial_state)"
   ]
  },
  {
   "cell_type": "markdown",
   "id": "ca8d28ec-397d-45ff-9528-30eb3ed6b09a",
   "metadata": {},
   "source": [
    "<div style=\"font-size:16px; color:green;\">\n",
    "\n",
    "> **Note:**  \n",
    "> The state passed to nodes 'bb' and 'cc' is the result of both nodes 'b' and 'c' storing their results to state.  \n",
    "> Edges convey control, not data. Data is stored to state from all active nodes at the end of a step.\n",
    "\n",
    "</div>\n"
   ]
  },
  {
   "cell_type": "markdown",
   "id": "fd832c04-aacc-4267-8f2d-29cce858a471",
   "metadata": {},
   "source": [
    "### What are the takeaways?  \n",
    "**Setup**:  \n",
    "- State  \n",
    "    - You added a reducer function in the state definition\n",
    "- Graph\n",
    "    - You used .add_edge() to create parallel path\n",
    "\n",
    "**Execution**\n",
    "- Runtime\n",
    "    - Nodes b and c operate in parallel.\n",
    "    - uses the reducer function to merge the values returned\n",
    "    - results from node b, c are stored to state before starting node bb and cc\n",
    "        - Control follows edges, not data\n",
    "\n",
    "**Result**\n",
    "The final result had all the values added to nlist by all the nodes.\n",
    "\n",
    "**Try Next**\n",
    "- Try adding a 3rd parallel path\n",
    "- Rather than joining at d, have bb and cc pass control to END. Are values still merged?\n"
   ]
  },
  {
   "cell_type": "code",
   "execution_count": null,
   "id": "8a5dd4e0-e8ff-4692-9f62-465b31c397b9",
   "metadata": {},
   "outputs": [],
   "source": []
  },
  {
   "cell_type": "code",
   "execution_count": null,
   "id": "716a321a-b243-4dae-9656-8b47939c7a0d",
   "metadata": {},
   "outputs": [],
   "source": []
  },
  {
   "cell_type": "code",
   "execution_count": null,
   "id": "abdf5d42-6374-4fdb-8245-605231272c88",
   "metadata": {},
   "outputs": [],
   "source": []
  },
  {
   "cell_type": "code",
   "execution_count": null,
   "id": "f78c4048-d599-4b33-b43c-6898dc1df7c9",
   "metadata": {},
   "outputs": [],
   "source": []
  },
  {
   "cell_type": "code",
   "execution_count": null,
   "id": "56ad742c-35eb-4b7a-8412-d88592d58e8c",
   "metadata": {},
   "outputs": [],
   "source": []
  },
  {
   "cell_type": "code",
   "execution_count": null,
   "id": "6280b9c0-2356-405c-8f19-f2ff70677a70",
   "metadata": {},
   "outputs": [],
   "source": []
  },
  {
   "cell_type": "code",
   "execution_count": null,
   "id": "96db7e07-cc02-4a32-93dc-3fe02fdba6b4",
   "metadata": {},
   "outputs": [],
   "source": []
  },
  {
   "cell_type": "code",
   "execution_count": null,
   "id": "bd2e12ea-e986-48d6-982e-05f184230cd0",
   "metadata": {},
   "outputs": [],
   "source": []
  },
  {
   "cell_type": "markdown",
   "id": "e085d75f-e733-4049-a1ef-f73954eeb83a",
   "metadata": {},
   "source": [
    "## Conditional Edges\n",
    "<div style=\"display:flex; align-items:flex-start;\">\n",
    "  <img src=\"./Assets/Conditional.png\" width=\"300\" style=\"margin-right:15px;\"/>\n",
    "  <img src=\"./Assets/Conditional_mermaid.png\" width=\"200\"/>\n",
    "</div>"
   ]
  },
  {
   "cell_type": "code",
   "execution_count": 18,
   "id": "9c4fed7a-c2ea-4931-9844-b3ed08826515",
   "metadata": {},
   "outputs": [],
   "source": [
    "class State(TypedDict):\n",
    "    nlist : Annotated[list[str], operator.add]   "
   ]
  },
  {
   "cell_type": "code",
   "execution_count": 19,
   "id": "cee4b9bc-235f-40ba-a891-5afee642eb7b",
   "metadata": {},
   "outputs": [],
   "source": [
    "def na (state: State) -> Command[Literal[\"b\", \"c\", END]]:\n",
    "\n",
    "    select = state[\"nlist\"][-1]\n",
    "    if select == \"b\":\n",
    "        next_node = \"b\"\n",
    "    elif select == \"c\":\n",
    "        next_node = \"c\"\n",
    "    elif select == \"q\":\n",
    "        next_node = END\n",
    "    else:\n",
    "        next_node = END\n",
    "        \n",
    "    return Command(\n",
    "        update ={\"nlist\": [select]},\n",
    "        goto=next_node\n",
    "    )"
   ]
  },
  {
   "cell_type": "code",
   "execution_count": 20,
   "id": "1c0e5823-eb3c-4131-bb90-06d03b302b28",
   "metadata": {},
   "outputs": [],
   "source": [
    "def nb (state: State):\n",
    "    return({\"nlist\": [\"B\"]})"
   ]
  },
  {
   "cell_type": "code",
   "execution_count": 21,
   "id": "ed534b7d-cd08-4150-841a-618b8123eb2d",
   "metadata": {},
   "outputs": [],
   "source": [
    "def nc (state: State):\n",
    "    return({\"nlist\": [\"C\"]})"
   ]
  },
  {
   "cell_type": "code",
   "execution_count": 22,
   "id": "8685cf14-45b8-4bde-9bf9-4b1aaed85f40",
   "metadata": {},
   "outputs": [
    {
     "data": {
      "image/png": "[encoded data removed]",
      "text/plain": [
       "<IPython.core.display.Image object>"
      ]
     },
     "metadata": {},
     "output_type": "display_data"
    }
   ],
   "source": [
    "builder = StateGraph(State)\n",
    "builder.add_node(\"a\", na)\n",
    "builder.add_node(\"b\", nb)\n",
    "builder.add_node(\"c\", nc)\n",
    "builder.add_edge(START,\"a\")\n",
    "#\n",
    "builder.add_edge(\"b\", END)\n",
    "builder.add_edge(\"c\", END)\n",
    "graph = builder.compile()\n",
    "display(Image(graph.get_graph().draw_mermaid_png()))"
   ]
  },
  {
   "cell_type": "code",
   "execution_count": 23,
   "id": "902e9008-0951-4308-b0e2-f2a20301291e",
   "metadata": {},
   "outputs": [
    {
     "name": "stdin",
     "output_type": "stream",
     "text": [
      "b, c, or q to quit:  b\n"
     ]
    },
    {
     "data": {
      "text/plain": [
       "{'nlist': ['b', 'b', 'B']}"
      ]
     },
     "execution_count": 23,
     "metadata": {},
     "output_type": "execute_result"
    }
   ],
   "source": [
    "user = input('b, c, or q to quit: ')\n",
    "\n",
    "input_state = State(\n",
    "    nlist = [user]\n",
    ")\n",
    "graph.invoke(input_state)"
   ]
  },
  {
   "cell_type": "code",
   "execution_count": 25,
   "id": "1e5ea961-bacc-407b-afb0-d1fc00aee6bb",
   "metadata": {},
   "outputs": [
    {
     "name": "stdin",
     "output_type": "stream",
     "text": [
      "b, c, or q to quit:  c\n"
     ]
    },
    {
     "name": "stdout",
     "output_type": "stream",
     "text": [
      "{'nlist': ['c', 'c', 'C']}\n"
     ]
    },
    {
     "name": "stdin",
     "output_type": "stream",
     "text": [
      "b, c, or q to quit:  b\n"
     ]
    },
    {
     "name": "stdout",
     "output_type": "stream",
     "text": [
      "{'nlist': ['b', 'b', 'B']}\n"
     ]
    },
    {
     "name": "stdin",
     "output_type": "stream",
     "text": [
      "b, c, or q to quit:  q\n"
     ]
    },
    {
     "name": "stdout",
     "output_type": "stream",
     "text": [
      "{'nlist': ['q', 'q']}\n",
      "quit\n"
     ]
    }
   ],
   "source": [
    "while True:\n",
    "    user = input('b, c, or q to quit: ')\n",
    "    input_state = State(nlist = [user])\n",
    "    result = graph.invoke(input_state)\n",
    "    print( result )\n",
    "    if result['nlist'][-1] == \"q\":\n",
    "        print(\"quit\")\n",
    "        break"
   ]
  },
  {
   "cell_type": "markdown",
   "id": "a78ac525-4767-40c3-a472-05534e529490",
   "metadata": {
    "jp-MarkdownHeadingCollapsed": true
   },
   "source": [
    "**What are the takeaways?**  \n",
    "**Setup**:  \n",
    "- Graph\n",
    "    - You used Command in the return statement to update Both the state and the control path\n",
    "    - Command 'goto' allows you to name the next node.\n",
    "    - Note that you must be careful to match the destination node name. You can use pydantic to do some checking.\n",
    "    - You must add the -> Command(..) as the node return type to allow the graphing software to understand how to draw the graph (it is not needed for functionality).\n",
    "\n",
    "**Try Next**\n",
    "- Try varying the input string to change the selection path.\n",
    "- Try misnaming `next_node` to see the run-time error that results.\n"
   ]
  },
  {
   "cell_type": "code",
   "execution_count": null,
   "id": "f5d0b954-7841-437d-8b08-a19ec172e364",
   "metadata": {},
   "outputs": [],
   "source": []
  },
  {
   "cell_type": "code",
   "execution_count": null,
   "id": "6a665d81-a2cf-472c-9271-a7a66b598317",
   "metadata": {},
   "outputs": [],
   "source": []
  },
  {
   "cell_type": "code",
   "execution_count": null,
   "id": "14bcbf1b-236e-441b-b7c3-c9009c05876f",
   "metadata": {},
   "outputs": [],
   "source": []
  },
  {
   "cell_type": "code",
   "execution_count": null,
   "id": "68873b49-68fe-4218-a93a-788b0ee004a0",
   "metadata": {},
   "outputs": [],
   "source": []
  },
  {
   "cell_type": "code",
   "execution_count": null,
   "id": "4f0519f5-12d4-4384-8705-8ce5502550fe",
   "metadata": {},
   "outputs": [],
   "source": []
  },
  {
   "cell_type": "code",
   "execution_count": null,
   "id": "89120b9b-092f-4e0b-aba5-6c0b7d8e2c5f",
   "metadata": {},
   "outputs": [],
   "source": []
  },
  {
   "cell_type": "code",
   "execution_count": null,
   "id": "e289d466-1c8b-4d6d-a1e1-d0d006f81eb9",
   "metadata": {},
   "outputs": [],
   "source": []
  },
  {
   "cell_type": "code",
   "execution_count": null,
   "id": "1e5f75ac-9f28-4799-98b7-f1e0b71fae80",
   "metadata": {},
   "outputs": [],
   "source": []
  },
  {
   "cell_type": "code",
   "execution_count": null,
   "id": "1bd22d4d-6211-4f87-89d6-fe120a689825",
   "metadata": {},
   "outputs": [],
   "source": []
  },
  {
   "cell_type": "markdown",
   "id": "763f6604-d471-4dd8-ae66-67737de8c850",
   "metadata": {},
   "source": [
    "## Memory\n",
    "<div style=\"display:flex; align-items:flex-start;\">\n",
    "  <img src=\"./Assets/Conditional_mermaid.png\" width=\"150\"/>\n",
    "  <img src=\"./Assets/Memory.png\" width=\"500\" style=\"margin-right:15px;\"/>\n",
    "</div>"
   ]
  },
  {
   "cell_type": "code",
   "execution_count": 29,
   "id": "0057bcba-3b07-4475-9bf7-87b7367c7b2e",
   "metadata": {},
   "outputs": [],
   "source": [
    "from langgraph.checkpoint.memory import MemorySaver\n",
    "\n",
    "memory = MemorySaver()\n",
    "config = {\"configurable\": {\"thread_id\": \"1\"}}"
   ]
  },
  {
   "cell_type": "code",
   "execution_count": 30,
   "id": "c1195f0a-fa52-4294-b847-718fd0157e22",
   "metadata": {},
   "outputs": [],
   "source": [
    "graph = builder.compile(checkpointer=memory)"
   ]
  },
  {
   "cell_type": "code",
   "execution_count": 31,
   "id": "78ecebee-9095-4615-a8b4-97a37a0f4d16",
   "metadata": {},
   "outputs": [
    {
     "name": "stdin",
     "output_type": "stream",
     "text": [
      "b, c, or q to quit:  b\n"
     ]
    },
    {
     "name": "stdout",
     "output_type": "stream",
     "text": [
      "{'nlist': ['b', 'b', 'B']}\n"
     ]
    },
    {
     "name": "stdin",
     "output_type": "stream",
     "text": [
      "b, c, or q to quit:  c\n"
     ]
    },
    {
     "name": "stdout",
     "output_type": "stream",
     "text": [
      "{'nlist': ['b', 'b', 'B', 'c', 'c', 'C']}\n"
     ]
    },
    {
     "name": "stdin",
     "output_type": "stream",
     "text": [
      "b, c, or q to quit:  b\n"
     ]
    },
    {
     "name": "stdout",
     "output_type": "stream",
     "text": [
      "{'nlist': ['b', 'b', 'B', 'c', 'c', 'C', 'b', 'b', 'B']}\n"
     ]
    },
    {
     "name": "stdin",
     "output_type": "stream",
     "text": [
      "b, c, or q to quit:  q\n"
     ]
    },
    {
     "name": "stdout",
     "output_type": "stream",
     "text": [
      "{'nlist': ['b', 'b', 'B', 'c', 'c', 'C', 'b', 'b', 'B', 'q', 'q']}\n",
      "quit\n"
     ]
    }
   ],
   "source": [
    "while True:\n",
    "    user = input('b, c, or q to quit: ')\n",
    "    input_state = State(nlist = [user])\n",
    "    result = graph.invoke(input_state, config )\n",
    "    print( result )\n",
    "    if result['nlist'][-1] == \"q\":\n",
    "        print(\"quit\")\n",
    "        break"
   ]
  },
  {
   "cell_type": "markdown",
   "id": "25c77213-261a-4190-a3cb-6eb076b7f252",
   "metadata": {},
   "source": [
    "### What are the takeaways?  \n",
    "**Setup**:  \n",
    "- Memory\n",
    "    - Instantiate a checkpoint memory \n",
    "- Graph\n",
    "    - Build the graph with the checkpointer\n",
    "\n",
    "**Execution**\n",
    "- Runtime\n",
    "    - invoke the graph with the thread id in the configuration\n",
    "\n",
    "**Result**     \n",
    "- You can invoke the graph, and between invocations, the state is preserved in checkpoint memory\n",
    "\n",
    "**Try Next**\n",
    "- Try running the graph yourself and observing the accumulation of values.\n"
   ]
  },
  {
   "cell_type": "code",
   "execution_count": null,
   "id": "081e86bd-30ca-4a5c-a49f-8b60f0e48d77",
   "metadata": {},
   "outputs": [],
   "source": []
  },
  {
   "cell_type": "code",
   "execution_count": null,
   "id": "b1c6cce8-5bd5-4279-9c8f-cd69a565ca9d",
   "metadata": {},
   "outputs": [],
   "source": []
  },
  {
   "cell_type": "code",
   "execution_count": null,
   "id": "13e38f92-97d3-455c-9755-767e1d57a859",
   "metadata": {},
   "outputs": [],
   "source": []
  },
  {
   "cell_type": "code",
   "execution_count": null,
   "id": "4d0aa469-7f13-4a72-997e-ad50fd46852c",
   "metadata": {},
   "outputs": [],
   "source": []
  },
  {
   "cell_type": "code",
   "execution_count": null,
   "id": "f0f9e795-14c3-4a89-b342-ec566dfca674",
   "metadata": {},
   "outputs": [],
   "source": []
  },
  {
   "cell_type": "code",
   "execution_count": null,
   "id": "f21f7936-d970-4d51-b929-e670f2534872",
   "metadata": {},
   "outputs": [],
   "source": []
  },
  {
   "cell_type": "code",
   "execution_count": null,
   "id": "9fcbd73b-6b79-494f-9c21-be64f5ced2af",
   "metadata": {},
   "outputs": [],
   "source": []
  },
  {
   "cell_type": "code",
   "execution_count": null,
   "id": "3c50bc1c-d6cd-43b6-8435-441585839e4b",
   "metadata": {},
   "outputs": [],
   "source": []
  },
  {
   "cell_type": "markdown",
   "id": "ca77c73d-b072-4407-83da-81f8836a5284",
   "metadata": {},
   "source": [
    "## Interrupt! Human In The Loop\n",
    "<div style=\"display:flex; align-items:flex-start;\">\n",
    "  <img src=\"./Assets/Conditional_mermaid.png\" width=\"150\"/>\n",
    "  <img src=\"./Assets/HITL.png\" width=\"500\" style=\"margin-right:15px;\"/>\n",
    "</div>"
   ]
  },
  {
   "cell_type": "code",
   "execution_count": 95,
   "id": "743749a6-1de9-4c1f-a1de-9d852face602",
   "metadata": {},
   "outputs": [],
   "source": [
    "from langgraph.checkpoint.memory import MemorySaver\n",
    "\n",
    "memory = MemorySaver()\n",
    "config = {\"configurable\": {\"thread_id\": \"1\"}}"
   ]
  },
  {
   "cell_type": "code",
   "execution_count": 96,
   "id": "13bec678-d282-4154-a61a-10f80aea9285",
   "metadata": {},
   "outputs": [],
   "source": [
    "class State(TypedDict):\n",
    "    nlist : Annotated[list[str], operator.add]  "
   ]
  },
  {
   "cell_type": "code",
   "execution_count": 97,
   "id": "143ca886-3759-4e01-844a-66d82c0ccf47",
   "metadata": {},
   "outputs": [],
   "source": [
    "def na (state: State) -> Command[Literal[\"b\", \"c\", END]]:\n",
    "\n",
    "    print(\"Entered 'a' node\")\n",
    "    select = state[\"nlist\"][-1]\n",
    "    if select == \"b\":\n",
    "        next_node = \"b\"\n",
    "    elif select == \"c\":\n",
    "        next_node = \"c\"\n",
    "    elif select == \"q\":\n",
    "        next_node = END\n",
    "    else:\n",
    "        admin = interrupt({\"message\": f\"\\U0001F4A5 Unexpected input {select}! Continue? \"})\n",
    "        print(admin)\n",
    "        if admin == \"continue\":\n",
    "            next_node = \"b\"\n",
    "        else:\n",
    "            next_node = END\n",
    "            select = \"q\"\n",
    "    return Command(\n",
    "        update ={\"nlist\": [select]},\n",
    "        goto=next_node\n",
    "    )"
   ]
  },
  {
   "cell_type": "code",
   "execution_count": 98,
   "id": "bdc6dfc4-f534-4231-9d96-88e72057a10c",
   "metadata": {},
   "outputs": [],
   "source": [
    "def nb (state: State):\n",
    "    return({\"nlist\": [\"B\"]})"
   ]
  },
  {
   "cell_type": "code",
   "execution_count": 99,
   "id": "cee883db-2fd6-41f0-afc5-e5108a676330",
   "metadata": {},
   "outputs": [],
   "source": [
    "def nc (state: State):\n",
    "    return({\"nlist\": [\"C\"]})"
   ]
  },
  {
   "cell_type": "code",
   "execution_count": 100,
   "id": "13f7b0ca-7645-4117-9108-ce2d32677ca0",
   "metadata": {
    "scrolled": true
   },
   "outputs": [],
   "source": [
    "builder = StateGraph(State)\n",
    "builder.add_node(\"a\", na)\n",
    "builder.add_node(\"b\", nb)\n",
    "builder.add_node(\"c\", nc)\n",
    "builder.add_edge(START,\"a\")\n",
    "#\n",
    "builder.add_edge(\"b\", END)\n",
    "builder.add_edge(\"c\", END)\n",
    "graph = builder.compile(checkpointer=memory)"
   ]
  },
  {
   "cell_type": "code",
   "execution_count": 101,
   "id": "60264452-2b35-4b2a-bde4-7b2deb889ca2",
   "metadata": {},
   "outputs": [
    {
     "name": "stdin",
     "output_type": "stream",
     "text": [
      "b, c, or q to quit:  x\n"
     ]
    },
    {
     "name": "stdout",
     "output_type": "stream",
     "text": [
      "Entered 'a' node\n",
      "\u001b[31m--------------------------------------------------------------------------------\u001b[0m\n",
      "Interrupt:{'nlist': ['x'], '__interrupt__': [Interrupt(value={'message': '💥 Unexpected input x! Continue? '}, id='477da7b00363e4c2c20c016221627bc0')]}\n"
     ]
    },
    {
     "name": "stdin",
     "output_type": "stream",
     "text": [
      "\n",
      "💥 Unexpected input x! Continue? :  quit\n"
     ]
    },
    {
     "name": "stdout",
     "output_type": "stream",
     "text": [
      "Entered 'a' node\n",
      "quit\n",
      "\u001b[31m--------------------------------------------------------------------------------\u001b[0m\n",
      "{'nlist': ['x', 'q']}\n",
      "quit\n"
     ]
    }
   ],
   "source": [
    "while True:\n",
    "    user = input('b, c, or q to quit: ')\n",
    "    input_state = State(nlist = [user])\n",
    "    result = graph.invoke(input_state, config )    \n",
    "\n",
    "    if '__interrupt__' in result:\n",
    "        print(f\"\\033[31m{80*'-'}\\033[0m\")\n",
    "        print(f\"Interrupt:{result}\")\n",
    "        msg = result['__interrupt__'][-1].value['message']\n",
    "        human = input(f\"\\n{msg}: \")\n",
    "\n",
    "        human_response = Command(\n",
    "            resume = human\n",
    "        )\n",
    "        result = graph.invoke(human_response, config )\n",
    "        print(f\"\\033[31m{80*'-'}\\033[0m\")\n",
    "    \n",
    "    \n",
    "    print( result )\n",
    "\n",
    "    if result['nlist'][-1] == \"q\":\n",
    "        print(\"quit\")\n",
    "        break"
   ]
  },
  {
   "cell_type": "code",
   "execution_count": null,
   "id": "96f82a71-e419-42df-85a4-72f95e90f77d",
   "metadata": {},
   "outputs": [],
   "source": []
  },
  {
   "cell_type": "code",
   "execution_count": null,
   "id": "1914d421-6253-4d76-8e3d-89f22ae71707",
   "metadata": {},
   "outputs": [],
   "source": []
  },
  {
   "cell_type": "code",
   "execution_count": null,
   "id": "b07ac238-6966-417d-8b79-1f64c547a18e",
   "metadata": {},
   "outputs": [],
   "source": []
  },
  {
   "cell_type": "code",
   "execution_count": null,
   "id": "996eb05a-847d-4ba2-adfb-376b1471b880",
   "metadata": {},
   "outputs": [],
   "source": []
  },
  {
   "cell_type": "code",
   "execution_count": null,
   "id": "78706007-36c9-4853-92ec-927192010f5d",
   "metadata": {},
   "outputs": [],
   "source": []
  },
  {
   "cell_type": "code",
   "execution_count": null,
   "id": "c94994fe-65b1-4da4-a1e6-6bbd4c8ac5c5",
   "metadata": {},
   "outputs": [],
   "source": []
  },
  {
   "cell_type": "code",
   "execution_count": null,
   "id": "5125728b-1e85-4012-bba2-03acd1464938",
   "metadata": {},
   "outputs": [],
   "source": []
  },
  {
   "cell_type": "code",
   "execution_count": null,
   "id": "609a9941-f3b1-4d73-ad7c-e3d809f88ca3",
   "metadata": {},
   "outputs": [],
   "source": []
  },
  {
   "cell_type": "markdown",
   "id": "2e83c8b5-8682-440e-a816-ba583ca4c11c",
   "metadata": {},
   "source": [
    "**What are the takeaways?**  \n",
    "\n",
    "**Setup**  \n",
    "\n",
    "- Graph\n",
    "    - You add an `interrupt` statement\n",
    "- Python runtime\n",
    "    - add an interrupt handler\n",
    "  \n",
    "**Execution**\n",
    "- When the interrupt is invoked, the operation pauses and the graph returns a value in an `__interrupt__` field.\n",
    "- When the graph is `invoked` with a `Command` containing a `response`, a value is provided to the graph and operation continues.\n",
    "- The node is restarted from the beginning. The Checkpointer will replay responses to interrupts.\n",
    "  \n",
    "**Try Next**\n",
    "- Try returning more complex data in the `response`.\n",
    "- Try adding additional interrupts to confirm the replay behavior."
   ]
  },
  {
   "cell_type": "code",
   "execution_count": null,
   "id": "583e952a-523a-430e-b063-c80a0591d9ba",
   "metadata": {},
   "outputs": [],
   "source": []
  },
  {
   "cell_type": "code",
   "execution_count": null,
   "id": "17bd32d7-ffea-47c8-af5d-a1f1544a92b7",
   "metadata": {},
   "outputs": [],
   "source": []
  },
  {
   "cell_type": "code",
   "execution_count": null,
   "id": "71a3d953-cdfd-4ec1-b342-b11530f25a2f",
   "metadata": {},
   "outputs": [],
   "source": []
  },
  {
   "cell_type": "code",
   "execution_count": null,
   "id": "fa7223d8-6d3c-48f9-8f10-0353d325068a",
   "metadata": {},
   "outputs": [],
   "source": []
  },
  {
   "cell_type": "code",
   "execution_count": null,
   "id": "565d7e71-30e6-4db3-aaa6-841d9d07811f",
   "metadata": {},
   "outputs": [],
   "source": []
  },
  {
   "cell_type": "code",
   "execution_count": null,
   "id": "99b94ccf-16d7-4d39-a058-7f3bf0989890",
   "metadata": {},
   "outputs": [],
   "source": []
  },
  {
   "cell_type": "code",
   "execution_count": null,
   "id": "e29baee2-bf41-404b-9a05-d137817ba5ea",
   "metadata": {},
   "outputs": [],
   "source": []
  },
  {
   "cell_type": "code",
   "execution_count": null,
   "id": "4d592dab-f75b-42e8-b216-1c3e2809ed84",
   "metadata": {},
   "outputs": [],
   "source": []
  },
  {
   "cell_type": "code",
   "execution_count": null,
   "id": "e0d886d7-4cae-46c3-ad52-16f5b931239a",
   "metadata": {},
   "outputs": [],
   "source": []
  },
  {
   "cell_type": "code",
   "execution_count": null,
   "id": "be27aa2c-67fd-4b96-b7c9-86abceb81450",
   "metadata": {},
   "outputs": [],
   "source": []
  },
  {
   "cell_type": "code",
   "execution_count": null,
   "id": "984fb074-dc97-42fe-ab21-8792d46bb6d7",
   "metadata": {},
   "outputs": [],
   "source": []
  },
  {
   "cell_type": "code",
   "execution_count": null,
   "id": "5a703fe6-3653-4d0b-93e3-4085845d4817",
   "metadata": {},
   "outputs": [],
   "source": []
  },
  {
   "cell_type": "code",
   "execution_count": null,
   "id": "42bd2a99-bceb-466a-af84-b0347bb9a7ea",
   "metadata": {},
   "outputs": [],
   "source": []
  },
  {
   "cell_type": "code",
   "execution_count": null,
   "id": "78e7b9be-afce-498b-b9e6-548b6600c1d2",
   "metadata": {},
   "outputs": [],
   "source": []
  },
  {
   "cell_type": "code",
   "execution_count": null,
   "id": "af768b2d-b1e3-49da-995f-a7ba4fb7ff5e",
   "metadata": {},
   "outputs": [],
   "source": []
  },
  {
   "cell_type": "code",
   "execution_count": null,
   "id": "eca65286-ed9a-4c57-ba87-6d4bd88eccf6",
   "metadata": {},
   "outputs": [],
   "source": []
  },
  {
   "cell_type": "code",
   "execution_count": null,
   "id": "5820ea00-2477-42a4-a6a2-86cc5e5dbd81",
   "metadata": {},
   "outputs": [],
   "source": []
  },
  {
   "cell_type": "code",
   "execution_count": null,
   "id": "b4e0faba-b742-48c8-b8a7-9e37c7bec253",
   "metadata": {},
   "outputs": [],
   "source": []
  },
  {
   "cell_type": "code",
   "execution_count": null,
   "id": "5fa20eed-6b7e-41cc-87ac-da6cb2fc2435",
   "metadata": {},
   "outputs": [],
   "source": []
  },
  {
   "cell_type": "code",
   "execution_count": null,
   "id": "d988cdd4-7fb3-4358-97a8-168d9ad70063",
   "metadata": {},
   "outputs": [],
   "source": []
  },
  {
   "cell_type": "code",
   "execution_count": null,
   "id": "061d4bee-84dc-43fe-b46c-a771c293d3bc",
   "metadata": {},
   "outputs": [],
   "source": []
  },
  {
   "cell_type": "code",
   "execution_count": null,
   "id": "089ccbf6-851f-4610-8c2e-80831bc722fe",
   "metadata": {},
   "outputs": [],
   "source": []
  },
  {
   "cell_type": "code",
   "execution_count": null,
   "id": "4fcee7fb-69d4-4683-84db-bdd7a553145a",
   "metadata": {},
   "outputs": [],
   "source": []
  },
  {
   "cell_type": "code",
   "execution_count": null,
   "id": "75c0edb0-753f-4137-a488-93fdb8facd4a",
   "metadata": {},
   "outputs": [],
   "source": []
  }
 ],
 "metadata": {
  "kernelspec": {
   "display_name": "Python 3 (ipykernel)",
   "language": "python",
   "name": "python3"
  },
  "language_info": {
   "codemirror_mode": {
    "name": "ipython",
    "version": 3
   },
   "file_extension": ".py",
   "mimetype": "text/x-python",
   "name": "python",
   "nbconvert_exporter": "python",
   "pygments_lexer": "ipython3",
   "version": "3.11.13"
  }
 },
 "nbformat": 4,
 "nbformat_minor": 5
}
